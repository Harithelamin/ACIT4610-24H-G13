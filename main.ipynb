{
 "cells": [
  {
   "cell_type": "code",
   "execution_count": null,
   "metadata": {},
   "outputs": [],
   "source": [
    "print('ACIT 4610, Portfolio-2024')\n",
    "print('\\nGroup-13')"
   ]
  },
  {
   "cell_type": "code",
   "execution_count": null,
   "metadata": {},
   "outputs": [],
   "source": [
    "print('Tools and Libraries:')\n",
    "print('\\n1- Python.')\n",
    "print('\\n2- OpenAI Gym for the environment.')\n",
    "print('\\n3- NumPy for numerical computations.')\n",
    "print('\\n4- Matplotlib for plotting results.')\n",
    "print('\\n5- TensorFlow/PyTorch for more advanced RL algorithms like DQN.')\n",
    "\n",
    "!pip3 freeze\n",
    "!pip3 install numpy\n",
    "!pip3 install openAi\n",
    "!pip3 install Matplotlib\n"
   ]
  }
 ],
 "metadata": {
  "language_info": {
   "name": "python"
  }
 },
 "nbformat": 4,
 "nbformat_minor": 2
}
