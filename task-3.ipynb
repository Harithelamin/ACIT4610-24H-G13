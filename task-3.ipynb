{
 "cells": [
  {
   "cell_type": "code",
   "execution_count": null,
   "metadata": {},
   "outputs": [],
   "source": [
    "print('ACIT 4610, Portfolio-2024')\n",
    "print('\\nGroup-13')\n",
    "print('\\nparticipate: Thomas, M khan, Harith')"
   ]
  },
  {
   "cell_type": "markdown",
   "metadata": {},
   "source": [
    "Problem 3: Solving the Vehicle Routing Problem with Time Windows (VRPTW) Using \n",
    "Ant Colony Optimization (ACO) and Particle Swarm Optimization (PSO)"
   ]
  },
  {
   "cell_type": "markdown",
   "metadata": {},
   "source": [
    "Overview \n",
    "This exercise focuses on optimizing the delivery routes for a fleet of vehicles using two nature\n",
    "inspired optimization algorithms: Ant Colony Optimization (ACO) and Particle Swarm \n",
    "Optimization (PSO). The objective is to find the most efficient routes for a set of vehicles, \n",
    "ensuring that all customers receive their deliveries within specified time windows. You will \n",
    "implement both ACO and PSO to solve the Vehicle Routing Problem with Time Windows \n",
    "(VRPTW) and compare the effectiveness of these algorithms. "
   ]
  },
  {
   "cell_type": "markdown",
   "metadata": {},
   "source": [
    "Problem Description \n",
    "The VRPTW is a variant of the Vehicle Routing Problem (VRP), which is crucial in logistics, \n",
    "transportation, and supply chain management. In VRPTW, a fleet of vehicles must deliver \n",
    "goods to multiple customers. Each customer has a specific time window during which the \n",
    "delivery must occur. The challenge is to design routes that minimize the total travel distance \n",
    "while ensuring all deliveries meet their respective time constraints."
   ]
  },
  {
   "cell_type": "markdown",
   "metadata": {},
   "source": [
    "The primary objective of the VRPTW is to minimize the total distance travelled by all vehicles \n",
    "while ensuring that: \n",
    "1. Each customer is visited exactly once by one vehicle. \n",
    "2. Deliveries occur within the specified time windows. \n",
    "3. The total demand on any route does not exceed the vehicle's capacity. "
   ]
  },
  {
   "cell_type": "markdown",
   "metadata": {},
   "source": [
    "Key Components \n",
    "• Depot: The starting and ending point for all vehicles. \n",
    "• Customers: Each customer has a location, a demand for goods, a time window for \n",
    "receiving the delivery, and a service time. \n",
    "• Vehicles: Each vehicle has a limited capacity and must return to the depot after \n",
    "completing its route. "
   ]
  },
  {
   "cell_type": "code",
   "execution_count": null,
   "metadata": {},
   "outputs": [],
   "source": [
    "# 1. Dataset, and Preprocessing\n",
    "#https://www.sintef.no/projectweb/top/vrptw/100-customers/"
   ]
  },
  {
   "cell_type": "code",
   "execution_count": null,
   "metadata": {},
   "outputs": [],
   "source": []
  }
 ],
 "metadata": {
  "kernelspec": {
   "display_name": "Python 3",
   "language": "python",
   "name": "python3"
  },
  "language_info": {
   "name": "python",
   "version": "3.12.5"
  }
 },
 "nbformat": 4,
 "nbformat_minor": 2
}
